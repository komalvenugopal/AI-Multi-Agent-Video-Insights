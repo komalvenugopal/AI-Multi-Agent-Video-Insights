{
 "cells": [
  {
   "cell_type": "code",
   "execution_count": 8,
   "metadata": {},
   "outputs": [
    {
     "name": "stdout",
     "output_type": "stream",
     "text": [
      "Requirement already satisfied: moviepy in /opt/anaconda3/envs/gen_design/lib/python3.11/site-packages (1.0.3)\n",
      "Requirement already satisfied: decorator<5.0,>=4.0.2 in /opt/anaconda3/envs/gen_design/lib/python3.11/site-packages (from moviepy) (4.0.2)\n",
      "Requirement already satisfied: tqdm<5.0,>=4.11.2 in /opt/anaconda3/envs/gen_design/lib/python3.11/site-packages (from moviepy) (4.66.4)\n",
      "Requirement already satisfied: requests<3.0,>=2.8.1 in /opt/anaconda3/envs/gen_design/lib/python3.11/site-packages (from moviepy) (2.31.0)\n",
      "Requirement already satisfied: proglog<=1.0.0 in /opt/anaconda3/envs/gen_design/lib/python3.11/site-packages (from moviepy) (0.1.10)\n",
      "Requirement already satisfied: numpy>=1.17.3 in /opt/anaconda3/envs/gen_design/lib/python3.11/site-packages (from moviepy) (1.26.4)\n",
      "Requirement already satisfied: imageio<3.0,>=2.5 in /opt/anaconda3/envs/gen_design/lib/python3.11/site-packages (from moviepy) (2.34.1)\n",
      "Requirement already satisfied: imageio-ffmpeg>=0.2.0 in /opt/anaconda3/envs/gen_design/lib/python3.11/site-packages (from moviepy) (0.4.9)\n",
      "Requirement already satisfied: pillow>=8.3.2 in /opt/anaconda3/envs/gen_design/lib/python3.11/site-packages (from imageio<3.0,>=2.5->moviepy) (9.5.0)\n",
      "Requirement already satisfied: setuptools in /opt/anaconda3/envs/gen_design/lib/python3.11/site-packages (from imageio-ffmpeg>=0.2.0->moviepy) (68.2.2)\n",
      "Requirement already satisfied: charset-normalizer<4,>=2 in /opt/anaconda3/envs/gen_design/lib/python3.11/site-packages (from requests<3.0,>=2.8.1->moviepy) (3.3.2)\n",
      "Requirement already satisfied: idna<4,>=2.5 in /opt/anaconda3/envs/gen_design/lib/python3.11/site-packages (from requests<3.0,>=2.8.1->moviepy) (3.7)\n",
      "Requirement already satisfied: urllib3<3,>=1.21.1 in /opt/anaconda3/envs/gen_design/lib/python3.11/site-packages (from requests<3.0,>=2.8.1->moviepy) (2.2.1)\n",
      "Requirement already satisfied: certifi>=2017.4.17 in /opt/anaconda3/envs/gen_design/lib/python3.11/site-packages (from requests<3.0,>=2.8.1->moviepy) (2024.2.2)\n",
      "Requirement already satisfied: decorator==4.0.2 in /opt/anaconda3/envs/gen_design/lib/python3.11/site-packages (4.0.2)\n",
      "Requirement already satisfied: chardet in /opt/anaconda3/envs/gen_design/lib/python3.11/site-packages (5.2.0)\n",
      "Collecting requests==2.25\n",
      "  Downloading requests-2.25.0-py2.py3-none-any.whl.metadata (4.2 kB)\n",
      "Collecting chardet\n",
      "  Downloading chardet-3.0.4-py2.py3-none-any.whl.metadata (3.2 kB)\n",
      "Collecting idna<3,>=2.5 (from requests==2.25)\n",
      "  Downloading idna-2.10-py2.py3-none-any.whl.metadata (9.1 kB)\n",
      "Collecting urllib3<1.27,>=1.21.1 (from requests==2.25)\n",
      "  Downloading urllib3-1.26.20-py2.py3-none-any.whl.metadata (50 kB)\n",
      "\u001b[2K     \u001b[90m━━━━━━━━━━━━━━━━━━━━━━━━━━━━━━━━━━━━━━━━\u001b[0m \u001b[32m50.1/50.1 kB\u001b[0m \u001b[31m1.5 MB/s\u001b[0m eta \u001b[36m0:00:00\u001b[0m\n",
      "\u001b[?25hRequirement already satisfied: certifi>=2017.4.17 in /opt/anaconda3/envs/gen_design/lib/python3.11/site-packages (from requests==2.25) (2024.2.2)\n",
      "Downloading requests-2.25.0-py2.py3-none-any.whl (61 kB)\n",
      "\u001b[2K   \u001b[90m━━━━━━━━━━━━━━━━━━━━━━━━━━━━━━━━━━━━━━━━\u001b[0m \u001b[32m61.1/61.1 kB\u001b[0m \u001b[31m1.7 MB/s\u001b[0m eta \u001b[36m0:00:00\u001b[0m\n",
      "\u001b[?25hDownloading chardet-3.0.4-py2.py3-none-any.whl (133 kB)\n",
      "\u001b[2K   \u001b[90m━━━━━━━━━━━━━━━━━━━━━━━━━━━━━━━━━━━━━━━━\u001b[0m \u001b[32m133.4/133.4 kB\u001b[0m \u001b[31m2.0 MB/s\u001b[0m eta \u001b[36m0:00:00\u001b[0m \u001b[36m0:00:01\u001b[0m\n",
      "\u001b[?25hDownloading idna-2.10-py2.py3-none-any.whl (58 kB)\n",
      "\u001b[2K   \u001b[90m━━━━━━━━━━━━━━━━━━━━━━━━━━━━━━━━━━━━━━━━\u001b[0m \u001b[32m58.8/58.8 kB\u001b[0m \u001b[31m2.0 MB/s\u001b[0m eta \u001b[36m0:00:00\u001b[0m\n",
      "\u001b[?25hDownloading urllib3-1.26.20-py2.py3-none-any.whl (144 kB)\n",
      "\u001b[2K   \u001b[90m━━━━━━━━━━━━━━━━━━━━━━━━━━━━━━━━━━━━━━━━\u001b[0m \u001b[32m144.2/144.2 kB\u001b[0m \u001b[31m2.3 MB/s\u001b[0m eta \u001b[36m0:00:00\u001b[0m \u001b[36m0:00:01\u001b[0m\n",
      "\u001b[?25hInstalling collected packages: chardet, urllib3, idna, requests\n",
      "  Attempting uninstall: chardet\n",
      "    Found existing installation: chardet 5.2.0\n",
      "    Uninstalling chardet-5.2.0:\n",
      "      Successfully uninstalled chardet-5.2.0\n",
      "  Attempting uninstall: urllib3\n",
      "    Found existing installation: urllib3 2.2.1\n",
      "    Uninstalling urllib3-2.2.1:\n",
      "      Successfully uninstalled urllib3-2.2.1\n",
      "  Attempting uninstall: idna\n",
      "    Found existing installation: idna 3.7\n",
      "    Uninstalling idna-3.7:\n",
      "      Successfully uninstalled idna-3.7\n",
      "  Attempting uninstall: requests\n",
      "    Found existing installation: requests 2.31.0\n",
      "    Uninstalling requests-2.31.0:\n",
      "      Successfully uninstalled requests-2.31.0\n",
      "Successfully installed chardet-3.0.4 idna-2.10 requests-2.25.0 urllib3-1.26.20\n"
     ]
    }
   ],
   "source": [
    "!pip3 install moviepy\n",
    "# !brew install ffmpeg\n",
    "!pip3 install decorator==4.0.2\n",
    "!pip3 install chardet requests==2.25"
   ]
  },
  {
   "cell_type": "code",
   "execution_count": 34,
   "metadata": {},
   "outputs": [],
   "source": [
    "import moviepy.config as cfg\n",
    "cfg.change_settings({\"FFMPEG_BINARY\": \"/opt/homebrew/bin/ffmpeg\"})"
   ]
  },
  {
   "cell_type": "code",
   "execution_count": 9,
   "metadata": {},
   "outputs": [
    {
     "ename": "RuntimeError",
     "evalue": "asyncio.run() cannot be called from a running event loop",
     "output_type": "error",
     "traceback": [
      "\u001b[0;31m---------------------------------------------------------------------------\u001b[0m",
      "\u001b[0;31mRuntimeError\u001b[0m                              Traceback (most recent call last)",
      "Cell \u001b[0;32mIn[9], line 53\u001b[0m\n\u001b[1;32m     51\u001b[0m output_dir \u001b[38;5;241m=\u001b[39m source \u001b[38;5;241m+\u001b[39m \u001b[38;5;124m\"\u001b[39m\u001b[38;5;124mchunks\u001b[39m\u001b[38;5;124m\"\u001b[39m\n\u001b[1;32m     52\u001b[0m workflow \u001b[38;5;241m=\u001b[39m VideoProcessingWorkflow(video_path, output_dir)\n\u001b[0;32m---> 53\u001b[0m \u001b[43masyncio\u001b[49m\u001b[38;5;241;43m.\u001b[39;49m\u001b[43mrun\u001b[49m\u001b[43m(\u001b[49m\u001b[43mworkflow\u001b[49m\u001b[38;5;241;43m.\u001b[39;49m\u001b[43msplit_video_and_audio\u001b[49m\u001b[43m(\u001b[49m\u001b[43m)\u001b[49m\u001b[43m)\u001b[49m\n",
      "File \u001b[0;32m/opt/anaconda3/envs/gen_design/lib/python3.11/asyncio/runners.py:186\u001b[0m, in \u001b[0;36mrun\u001b[0;34m(main, debug)\u001b[0m\n\u001b[1;32m    161\u001b[0m \u001b[38;5;250m\u001b[39m\u001b[38;5;124;03m\"\"\"Execute the coroutine and return the result.\u001b[39;00m\n\u001b[1;32m    162\u001b[0m \n\u001b[1;32m    163\u001b[0m \u001b[38;5;124;03mThis function runs the passed coroutine, taking care of\u001b[39;00m\n\u001b[0;32m   (...)\u001b[0m\n\u001b[1;32m    182\u001b[0m \u001b[38;5;124;03m    asyncio.run(main())\u001b[39;00m\n\u001b[1;32m    183\u001b[0m \u001b[38;5;124;03m\"\"\"\u001b[39;00m\n\u001b[1;32m    184\u001b[0m \u001b[38;5;28;01mif\u001b[39;00m events\u001b[38;5;241m.\u001b[39m_get_running_loop() \u001b[38;5;129;01mis\u001b[39;00m \u001b[38;5;129;01mnot\u001b[39;00m \u001b[38;5;28;01mNone\u001b[39;00m:\n\u001b[1;32m    185\u001b[0m     \u001b[38;5;66;03m# fail fast with short traceback\u001b[39;00m\n\u001b[0;32m--> 186\u001b[0m     \u001b[38;5;28;01mraise\u001b[39;00m \u001b[38;5;167;01mRuntimeError\u001b[39;00m(\n\u001b[1;32m    187\u001b[0m         \u001b[38;5;124m\"\u001b[39m\u001b[38;5;124masyncio.run() cannot be called from a running event loop\u001b[39m\u001b[38;5;124m\"\u001b[39m)\n\u001b[1;32m    189\u001b[0m \u001b[38;5;28;01mwith\u001b[39;00m Runner(debug\u001b[38;5;241m=\u001b[39mdebug) \u001b[38;5;28;01mas\u001b[39;00m runner:\n\u001b[1;32m    190\u001b[0m     \u001b[38;5;28;01mreturn\u001b[39;00m runner\u001b[38;5;241m.\u001b[39mrun(main)\n",
      "\u001b[0;31mRuntimeError\u001b[0m: asyncio.run() cannot be called from a running event loop"
     ]
    }
   ],
   "source": [
    "import asyncio\n",
    "import os\n",
    "from moviepy.editor import VideoFileClip\n",
    "\n",
    "class VideoProcessingWorkflow:\n",
    "    def __init__(self, video_path, output_dir):\n",
    "        self.video_path = video_path\n",
    "        self.output_dir = output_dir\n",
    "        if not os.path.exists(output_dir):\n",
    "            os.makedirs(output_dir)\n",
    "        if not os.path.exists(os.path.join(output_dir, \"videos\")):\n",
    "            os.makedirs(os.path.join(output_dir, \"videos\"))\n",
    "        if not os.path.exists(os.path.join(output_dir, \"audios\")):\n",
    "            os.makedirs(os.path.join(output_dir, \"audios\"))\n",
    "\n",
    "    async def process_subclip(self, start_time, end_time, subclip_path, audio_path):\n",
    "        \"\"\"Process a video subclip asynchronously.\"\"\"\n",
    "        try:\n",
    "            with VideoFileClip(self.video_path).subclip(start_time, end_time) as clip:\n",
    "                clip.write_videofile(subclip_path, codec='mpeg4')  # Synchronous blocking operation for video\n",
    "                clip.audio.write_audiofile(audio_path)  # Synchronous blocking operation for audio\n",
    "                print(f\"Processed video and audio from {start_time} to {end_time} seconds.\")\n",
    "        except Exception as e:\n",
    "            print(f\"Error processing media from {start_time} to {end_time} seconds: {str(e)}\")\n",
    "\n",
    "    async def split_video_and_audio(self):\n",
    "        \"\"\"Asynchronously splits video into 20-second clips and extracts audio.\"\"\"\n",
    "        try:\n",
    "            with VideoFileClip(self.video_path) as clip:\n",
    "                duration = int(clip.duration)\n",
    "                tasks = []\n",
    "                for start_time in range(0, duration, 20):\n",
    "                    end_time = min(start_time + 20, duration)\n",
    "                    subclip_path = os.path.join(self.output_dir, \"videos\", f\"video_{start_time}_{end_time}.mp4\")\n",
    "                    audio_path = os.path.join(self.output_dir, \"audios\", f\"audio_{start_time}_{end_time}.mp3\")\n",
    "                    # Schedule the processing of each subclip\n",
    "                    task = asyncio.create_task(self.process_subclip(start_time, end_time, subclip_path, audio_path))\n",
    "                    tasks.append(task)\n",
    "                # Wait for all scheduled tasks to complete\n",
    "                await asyncio.gather(*tasks)\n",
    "        except Exception as e:\n",
    "            print(f\"Error opening video file: {str(e)}\")\n",
    "\n",
    "# This function wraps the workflow initialization and execution\n",
    "async def main():\n",
    "    source = \"sources/bahubali/\"\n",
    "    video_path = source + \"video.mp4\"\n",
    "    output_dir = source + \"chunks\"\n",
    "    workflow = VideoProcessingWorkflow(video_path, output_dir)\n",
    "    await workflow.split_video_and_audio()\n",
    "\n",
    "# Running the main function in Jupyter's existing event loop\n",
    "await main()  # Use this line directly in a Jupyter cell"
   ]
  },
  {
   "cell_type": "code",
   "execution_count": null,
   "metadata": {},
   "outputs": [],
   "source": []
  }
 ],
 "metadata": {
  "kernelspec": {
   "display_name": "gen_design",
   "language": "python",
   "name": "python3"
  },
  "language_info": {
   "codemirror_mode": {
    "name": "ipython",
    "version": 3
   },
   "file_extension": ".py",
   "mimetype": "text/x-python",
   "name": "python",
   "nbconvert_exporter": "python",
   "pygments_lexer": "ipython3",
   "version": "3.11.9"
  }
 },
 "nbformat": 4,
 "nbformat_minor": 2
}
